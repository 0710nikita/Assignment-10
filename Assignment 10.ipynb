{
 "cells": [
  {
   "cell_type": "code",
   "execution_count": 1,
   "metadata": {},
   "outputs": [],
   "source": [
    "# Calculate the mean, median, mode and standard deviation for the problem statements 1 & 2."
   ]
  },
  {
   "cell_type": "code",
   "execution_count": null,
   "metadata": {},
   "outputs": [],
   "source": [
    "# Problem Statement 1:\n",
    "\n",
    "# The marks awarded for an assignment set for a Year 8 class of 20 students were as follows:\n",
    "# 6 7 5 7 7 8 7 6 9 7 4 10 6 8 8 9 5 6 4 8"
   ]
  },
  {
   "cell_type": "code",
   "execution_count": 1,
   "metadata": {},
   "outputs": [
    {
     "name": "stdout",
     "output_type": "stream",
     "text": [
      "Mean of Marks :  6.85\n",
      "Median of marks :  7.0\n",
      "Mode of Marks :  ModeResult(mode=array([7]), count=array([5]))\n",
      "Standard Deviation of Marks :  1.6311119875071343\n"
     ]
    }
   ],
   "source": [
    "import numpy as np\n",
    "from scipy import stats\n",
    "import statistics\n",
    "\n",
    "marks = [6, 7, 5, 7, 7, 8, 7, 6, 9, 7, 4, 10, 6, 8, 8, 9, 5, 6, 4, 8]\n",
    "\n",
    "print(\"Mean of Marks : \", np.mean(marks))\n",
    "print(\"Median of marks : \", np.median(marks))\n",
    "print(\"Mode of Marks : \", stats.mode(marks))\n",
    "print(\"Standard Deviation of Marks : \", statistics.stdev(marks))"
   ]
  },
  {
   "cell_type": "code",
   "execution_count": 4,
   "metadata": {},
   "outputs": [],
   "source": [
    "# Problem Statement 2:\n",
    "\n",
    "# The number of calls from motorists per day for roadside service was recorded for a particular month:\n",
    "# 28, 122, 217, 130, 120, 86, 80, 90, 140, 120, 70, 40, 145, 113, 90, 68, 174, 194, 170, 100, 75, 104, 97, 75,\n",
    "# 123, 100, 75, 104, 97, 75, 123, 100, 89, 120, 109"
   ]
  },
  {
   "cell_type": "code",
   "execution_count": 2,
   "metadata": {},
   "outputs": [
    {
     "name": "stdout",
     "output_type": "stream",
     "text": [
      "Mean :  107.51428571428572\n",
      "Median :  100.0\n",
      "Mode :  ModeResult(mode=array([75]), count=array([4]))\n",
      "Standard Deviation :  39.33892805484412\n"
     ]
    }
   ],
   "source": [
    "import numpy as np\n",
    "from scipy import stats\n",
    "import statistics\n",
    "\n",
    "no_calls = [28, 122, 217, 130, 120, 86, 80, 90, 140, 120, 70, 40, 145, 113, 90, 68, 174, 194, 170, 100, 75, 104, 97, 75,\n",
    "         123, 100, 75, 104, 97, 75, 123, 100, 89, 120, 109]\n",
    "\n",
    "print(\"Mean : \", np.mean(no_calls))\n",
    "print(\"Median : \", np.median(no_calls))\n",
    "print(\"Mode : \", stats.mode(no_calls))\n",
    "print(\"Standard Deviation : \", statistics.stdev(no_calls))"
   ]
  },
  {
   "cell_type": "code",
   "execution_count": 10,
   "metadata": {},
   "outputs": [],
   "source": [
    "# Problem Statement 3:\n",
    "\n",
    "# The number of times I go to the gym in weekdays, are given below along with its associated probability:\n",
    "# x = 0, 1, 2, 3, 4, 5\n",
    "# f(x) = 0.09, 0.15, 0.40, 0.25, 0.10, 0.01\n",
    "# Calculate the mean no. of workouts in a week. Also evaluate the variance involved in it."
   ]
  },
  {
   "cell_type": "code",
   "execution_count": 3,
   "metadata": {},
   "outputs": [
    {
     "name": "stdout",
     "output_type": "stream",
     "text": [
      "Mean no. of workouts in a week :  2.15\n",
      "Variance :  3.6999999999999997\n"
     ]
    }
   ],
   "source": [
    "x = [0, 1, 2, 3, 4, 5]\n",
    "fx = [0.09, 0.15, 0.40, 0.25, 0.10, 0.01]\n",
    "\n",
    "mean = sum([float(x[i]) * fx[i] for i in range(len(x))])\n",
    "var = (sum([float(x[i] ** 2)* fx[i] for i in range(len(x))]) - mean)\n",
    "\n",
    "print(\"Mean no. of workouts in a week : \", mean)\n",
    "print(\"Variance : \", var)"
   ]
  },
  {
   "cell_type": "code",
   "execution_count": 14,
   "metadata": {},
   "outputs": [],
   "source": [
    "# Problem Statement 4:\n",
    "\n",
    "# Let the continuous random variable D denote the diameter of the hole drilled in an aluminum sheet.\n",
    "# The target diameter to be achieved is 12.5mm. Random disturbances in the process often result in inaccuracy.\n",
    "# Historical data shows that the distribution of D can be modelled by the PDF (d) = 20e−20(d−12.5), d ≥ 12.5.\n",
    "# If a part with diameter > 12.6 mm needs to be scrapped,\n",
    "# what is the proportion of those parts? What is the CDF when the diameter is of 11mm?\n",
    "# What is your conclusion regarding the proportion of scraps?"
   ]
  },
  {
   "cell_type": "code",
   "execution_count": 36,
   "metadata": {},
   "outputs": [
    {
     "name": "stdout",
     "output_type": "stream",
     "text": [
      "The Proportion of the parts with diameter > 12.6mm :  0.13533528323661398\n",
      "The CDF when the diameter is of 11mm is 0\n",
      "The proportion of the parts between 12.5 and 12.6 : 0.8646647167633718\n"
     ]
    }
   ],
   "source": [
    "import numpy as np\n",
    "from scipy.integrate import quad\n",
    "\n",
    "def func(d):\n",
    "    return (20 * np.exp(-20 * (d - 12.5)))\n",
    "result1 = quad(func, a = 12.6, b = np.inf)[0]\n",
    "print('The Proportion of the parts with diameter > 12.6mm : ', result1)\n",
    "print('The CDF when the diameter is of 11mm is 0')\n",
    "result2 = quad(func, a = 12.5, b = 12.6)[0]\n",
    "print('The proportion of the parts between 12.5 and 12.6 :', result2) "
   ]
  },
  {
   "cell_type": "markdown",
   "metadata": {},
   "source": [
    "Conclusion : if the value of diameter < 12.5mm, the proportion of the scraps is 0 and the value of diameter > 12.6mm, the proportion of scraps is 1 "
   ]
  },
  {
   "cell_type": "code",
   "execution_count": null,
   "metadata": {},
   "outputs": [],
   "source": [
    "# Problem Statement 5:\n",
    "\n",
    "# A company manufactures LED bulbs with a faulty rate of 30%. If I randomly select 6 chosen LEDs,\n",
    "# what is the probability of having 2 faulty LEDs in my sample?\n",
    "# Calculate the average value of this process. Also evaluate the standard deviation associated with it."
   ]
  },
  {
   "cell_type": "code",
   "execution_count": 4,
   "metadata": {},
   "outputs": [
    {
     "name": "stdout",
     "output_type": "stream",
     "text": [
      "Probability :  0.3239\n",
      "Average Value :  1.7999999999999998\n",
      "Standard Deviation :  1.1224972160321822\n"
     ]
    }
   ],
   "source": [
    "from scipy.stats import binom\n",
    "import numpy as np\n",
    "\n",
    "prob = sum(np.random.binomial(6, 0.3, 50000) == 2) / 50000\n",
    "print(\"Probability : \", prob)\n",
    "n = 6\n",
    "p = 0.3\n",
    "mean, var = (binom.stats(n, p))\n",
    "std_dev = var ** 0.5\n",
    "print(\"Average Value : \", mean)\n",
    "print(\"Standard Deviation : \", std_dev)"
   ]
  },
  {
   "cell_type": "code",
   "execution_count": 16,
   "metadata": {},
   "outputs": [],
   "source": [
    "# Problem Statement 6:\n",
    "\n",
    "# Gaurav and Barakha are both preparing for entrance exams. Gaurav attempts to\n",
    "# solve 8 questions per day with a correction rate of 75%, while Barakha averages\n",
    "# around 12 questions per day with a correction rate of 45%. What is the probability\n",
    "# that each of them will solve 5 questions correctly? What happens in cases of 4 and 6 correct solutions?\n",
    "# What do you infer from it? What are the two main governing\n",
    "# factors affecting their ability to solve questions correctly? \n",
    "# Give a pictorial representation of the same to validate your answer."
   ]
  },
  {
   "cell_type": "code",
   "execution_count": 5,
   "metadata": {},
   "outputs": [
    {
     "data": {
      "image/png": "[encoded data removed]",
      "text/plain": [
       "<Figure size 1080x360 with 2 Axes>"
      ]
     },
     "metadata": {
      "needs_background": "light"
     },
     "output_type": "display_data"
    }
   ],
   "source": [
    "import matplotlib.pyplot as plt\n",
    "from scipy.stats import binom\n",
    "\n",
    "n_G1 = 8\n",
    "n_B1 = 12\n",
    "p_G1 = 0.75\n",
    "p_B1 = 0.45\n",
    "\n",
    "p_values_G1 = list(range(n_G1 + 1))\n",
    "p_values_B1 = list(range(n_B1 + 1))\n",
    "\n",
    "dist_G1 = [ binom.pmf(r, n_G1, p_G1) for r in p_values_G1 ]\n",
    "dist_B1 = [ binom.pmf(r, n_B1, p_B1) for r in p_values_B1 ]\n",
    "\n",
    "fig = plt.figure(figsize = (15, 5))\n",
    "plt.subplot(1, 2, 1)\n",
    "plt.title('Gaurav\\'s probability distribution')\n",
    "plt.xlabel('No. of questions solved correctly')\n",
    "plt.ylabel('Probability of solving')\n",
    "plt.bar(p_values_G1, dist_G1)\n",
    "plt.subplot(1, 2, 2)\n",
    "plt.title('Barkha\\'s probability distribution')\n",
    "plt.xlabel('No. of questions solved correctly')\n",
    "plt.ylabel('Probability of solving')\n",
    "plt.bar(p_values_B1, dist_B1)\n",
    "plt.show()"
   ]
  },
  {
   "cell_type": "code",
   "execution_count": 6,
   "metadata": {},
   "outputs": [
    {
     "name": "stdout",
     "output_type": "stream",
     "text": [
      "Probability to Solve  4 correctly for Gaurav is  0.08651733398437506\n",
      "Probability to Solve  4 correctly for Barkha is  0.16996393213605795\n",
      "Probability to Solve  6 correctly for Gaurav is  0.31146240234375017\n",
      "Probability to Solve  6 correctly for Barkha is  0.21238468214026424\n"
     ]
    }
   ],
   "source": [
    "print('Probability to Solve ', p_values_G1[4],'correctly for Gaurav is ', dist_G1[4])\n",
    "print('Probability to Solve ', p_values_B1[4],'correctly for Barkha is ', dist_B1[4])\n",
    "print('Probability to Solve ', p_values_G1[6],'correctly for Gaurav is ', dist_G1[6])\n",
    "print('Probability to Solve ', p_values_B1[6],'correctly for Barkha is ', dist_B1[6])"
   ]
  },
  {
   "cell_type": "code",
   "execution_count": null,
   "metadata": {},
   "outputs": [],
   "source": [
    "# Problem Statement 7:\n",
    "\n",
    "# Customers arrive at a rate of 72 per hour to my shop. What is the probability of k customers arriving in 4 minutes?\n",
    "# a) 5 customers, b) not more than 3 customers, c) more than 3 customers.\n",
    "# Give a pictorial representation of the same to validate your answer."
   ]
  },
  {
   "cell_type": "code",
   "execution_count": 34,
   "metadata": {},
   "outputs": [
    {
     "data": {
      "image/png": "[encoded data removed]",
      "text/plain": [
       "<Figure size 432x288 with 1 Axes>"
      ]
     },
     "metadata": {
      "needs_background": "light"
     },
     "output_type": "display_data"
    }
   ],
   "source": [
    "from scipy.stats import poisson\n",
    "import matplotlib.pyplot as plt\n",
    "import seaborn as sb\n",
    "\n",
    "poisson_data = poisson.rvs(mu = 4.8, size = 400)\n",
    "\n",
    "ax = sb.distplot(poisson_data, hist = True, kde = True, color = 'blue')\n",
    "ax.set(xlabel = 'Customers per 4 minutes', ylabel = 'Frequency')\n",
    "plt.title('Poisson Distribution')\n",
    "plt.show()"
   ]
  },
  {
   "cell_type": "code",
   "execution_count": 37,
   "metadata": {},
   "outputs": [
    {
     "name": "stdout",
     "output_type": "stream",
     "text": [
      "Probability of not more than 3 customers is :  0.294\n",
      "Probability of more than 3 customers is :  0.706\n"
     ]
    },
    {
     "data": {
      "image/png": "[encoded data removed]",
      "text/plain": [
       "<Figure size 432x288 with 1 Axes>"
      ]
     },
     "metadata": {
      "needs_background": "light"
     },
     "output_type": "display_data"
    }
   ],
   "source": [
    "import numpy as np\n",
    "import matplotlib.pyplot as plt\n",
    "from scipy.stats import poisson\n",
    "\n",
    "x = np.arange(0, 25)\n",
    "prob = poisson.cdf(x, 4.8)\n",
    "y = prob[3]\n",
    "print('Probability of not more than 3 customers is : ', round(y, 3))\n",
    "print('Probability of more than 3 customers is : ', round((1 - y), 3))\n",
    "plt.plot(prob)\n",
    "plt.plot((3,3),(0,1))\n",
    "plt.scatter(3, prob[3])\n",
    "plt.text(3, prob[3],'({},{})'.format(3, round(prob[3], 3)))\n",
    "plt.title('CDF of poisson distribution')\n",
    "plt.show()"
   ]
  },
  {
   "cell_type": "code",
   "execution_count": null,
   "metadata": {},
   "outputs": [],
   "source": [
    "# Problem Statement 8:\n",
    "\n",
    "# I work as a data analyst in Aeon Learning Pvt. Ltd. After analyzing data, I make reports, \n",
    "# where I have the efficiency of entering 77 words per minute with 6 errors per hour.\n",
    "# What is the probability that I will commit 2 errors in a 455-word financial report?\n",
    "# What happens when the no. of words increases/decreases (in case of 1000 words, 255 words)?\n",
    "# How is the λ affected?\n",
    "# How does it influence the PMF?\n",
    "# Give a pictorial representation of the same to validate your answer.\n"
   ]
  },
  {
   "cell_type": "code",
   "execution_count": 42,
   "metadata": {},
   "outputs": [
    {
     "data": {
      "image/png": "[encoded data removed]",
      "text/plain": [
       "<Figure size 1080x360 with 2 Axes>"
      ]
     },
     "metadata": {
      "needs_background": "light"
     },
     "output_type": "display_data"
    }
   ],
   "source": [
    "import numpy as np\n",
    "import matplotlib.pyplot as plt\n",
    "from scipy.stats import poisson\n",
    "\n",
    "figure = plt.figure(figsize = (15, 5))\n",
    "x = np.arange(0, 10)\n",
    "mu_1 = 0.59\n",
    "mu_2 = 1.299\n",
    "mu_3 = 0.33\n",
    "plt.subplot(1,2,1)\n",
    "plt.plot(x, poisson.pmf(x, mu_1), 'y-', label = 'λ : 0.59')\n",
    "plt.plot(x, poisson.pmf(x, mu_2), 'r-', label = 'λ : 1.299')\n",
    "plt.plot(x, poisson.pmf(x, mu_3), 'g-', label = 'λ : 0.33')\n",
    "plt.legend()\n",
    "plt.title('PDF for different Lambda')\n",
    "plt.subplot(1,2,2)\n",
    "mu_1 = 0.59\n",
    "mu_2 = 1.299\n",
    "mu_3 = 0.33\n",
    "x = np.arange(0, 10)\n",
    "plt.plot(x, poisson.cdf(x, mu_1), 'y-', label = 'λ : 0.59')\n",
    "plt.plot(x, poisson.cdf(x, mu_2), 'r-', label = 'λ : 1.299')\n",
    "plt.plot(x, poisson.cdf(x, mu_3), 'g-', label = 'λ : 0.33')\n",
    "plt.legend()\n",
    "plt.title('PDF for different Lambda')\n",
    "plt.show()"
   ]
  },
  {
   "cell_type": "code",
   "execution_count": null,
   "metadata": {},
   "outputs": [],
   "source": [
    "# Problem Statement 9:\n",
    "\n",
    "# Let the continuous random variable D denote the diameter of the hole drilled in an aluminum sheet.\n",
    "# The target diameter to be achieved is 12.5mm. Random disturbances in the process often result in inaccuracy.\n",
    "# Historical data shows that the distribution of D can be modelled by the PDF, f(d) = 20e−20(d−12.5), d ≥ 12.5.\n",
    "# If a part with diameter > 12.6 mm needs to be scrapped,\n",
    "# what is the proportion of those parts? What is the CDF when the diameter is of 11mm?\n",
    "# What is the conclusion of this experiment?"
   ]
  },
  {
   "cell_type": "markdown",
   "metadata": {},
   "source": [
    "Solved as Problem Statement 4"
   ]
  },
  {
   "cell_type": "code",
   "execution_count": null,
   "metadata": {},
   "outputs": [],
   "source": [
    "# Problem Statement 10:\n",
    "\n",
    "# Please compute the following:\n",
    "# a) P(Z > 1.26), . P(Z < −0.86), P(Z > −1.37), P(−1.25 < Z < 0.37), . P(Z ≤ −4.6)\n",
    "# b) Find the value z such that P(Z > z) = 0.05\n",
    "# c) Find the value of z such that P(−z < Z < z) = 0.99"
   ]
  },
  {
   "cell_type": "code",
   "execution_count": 30,
   "metadata": {},
   "outputs": [
    {
     "name": "stdout",
     "output_type": "stream",
     "text": [
      "P(Z > 1.26) :  0.10383468112130045\n",
      "P(Z < -0.86) :  0.1948945212518084\n",
      "P(Z > -1.37) :  0.914656549178033\n",
      "P(-1.25 < Z < 0.37) :  0.5386589811336914\n",
      "P(Z ≤ -4.6) :  0.9999978875452975\n",
      "The value of z such that P(Z > z) = 0.05 : 1.6448536269514729\n",
      "The value of z such that P(-z < Z < z) = 0.99 : 2.3263478740408408\n"
     ]
    }
   ],
   "source": [
    "import scipy.stats as st\n",
    "import numpy as np\n",
    "\n",
    "print('P(Z > 1.26) : ', 1 - (st.norm.cdf(1.26)))\n",
    "print('P(Z < -0.86) : ', st.norm.cdf(-0.86))\n",
    "print('P(Z > -1.37) : ', 1 - (st.norm.cdf(-1.37)))\n",
    "print('P(-1.25 < Z < 0.37) : ', (st.norm.cdf(0.37) - st.norm.cdf(-1.25)))\n",
    "print('P(Z ≤ -4.6) : ', 1 - (st.norm.cdf(-4.6)))\n",
    "print('The value of z such that P(Z > z) = 0.05 :', np.absolute(st.norm.ppf(0.05)))\n",
    "print('The value of z such that P(-z < Z < z) = 0.99 :',st.norm.ppf(0.99))"
   ]
  },
  {
   "cell_type": "code",
   "execution_count": null,
   "metadata": {},
   "outputs": [],
   "source": [
    "# Problem Statement 11:\n",
    "\n",
    "# The current flow in a copper wire follow a normal distribution with a mean of 10 mA and a variance of 4 (mA) 2.\n",
    "# What is the probability that a current measurement will exceed 13 mA? What is the probability that a current \n",
    "# measurement is between 9 and 11mA? Determine the current measurement which has a probability of 0.98."
   ]
  },
  {
   "cell_type": "code",
   "execution_count": 34,
   "metadata": {},
   "outputs": [
    {
     "name": "stdout",
     "output_type": "stream",
     "text": [
      "The probability that a current measurement will exceed 13 mA : 0.06680720126885809\n",
      "The probability that a current measurement is between 9 and 11mA : 0.38292492254802624\n",
      "The current measurement which has a probability of 0.98 : 14.107497821263646\n"
     ]
    }
   ],
   "source": [
    "import scipy.stats as st\n",
    "\n",
    "# mean = 10  and variance = 2\n",
    "print('The probability that a current measurement will exceed 13 mA :', 1 - (st.norm.cdf(x = 13, loc = 10, scale = 2)))\n",
    "print('The probability that a current measurement is between 9 and 11mA :', (st.norm.cdf(x = 11, loc = 10, scale = 2) - st.norm.cdf(x = 9, loc = 10, scale = 2)))\n",
    "print('The current measurement which has a probability of 0.98 :',st.norm.ppf(q = 0.98, loc = 10, scale = 2))"
   ]
  },
  {
   "cell_type": "code",
   "execution_count": null,
   "metadata": {},
   "outputs": [],
   "source": [
    "# Problem Statement 12:\n",
    "\n",
    "# The shaft in a piston has its diameter normally distributed with a mean of 0.2508 inch and\n",
    "# a standard deviation of 0.0005 inch. The specifications of the shaft are 0.2500 ∓ 0.0015 inch.\n",
    "# What proportion of shafts are in sync with the specifications? If the process is centered so that\n",
    "# the mean is equal to the target value of 0.2500, what proportion of shafts conform to the new specifications?\n",
    "# What is your conclusion from this experiment?"
   ]
  },
  {
   "cell_type": "code",
   "execution_count": 37,
   "metadata": {},
   "outputs": [
    {
     "name": "stdout",
     "output_type": "stream",
     "text": [
      "Proportion of shafts are in sync with the specifications :  0.91924122831152\n",
      "Proportion of shafts conform to the new specifications 0.9973002039367398\n"
     ]
    }
   ],
   "source": [
    "import scipy.stats as st\n",
    "\n",
    "# mean = 0.2508 and stand_devi = 0.0005\n",
    "s1 = 0.2500 - 0.0015\n",
    "s2 = 0.2500 + 0.0015\n",
    "\n",
    "print('Proportion of shafts are in sync with the specifications : ', (st.norm.cdf(x = s2, loc = 0.2508, scale = 0.0005) - st.norm.cdf(x = s1, loc = 0.2508, scale = 0.0005)))\n",
    "# new_mean = 0.2500\n",
    "print('Proportion of shafts conform to the new specifications',(st.norm.cdf(x = s2, loc = 0.2500, scale = 0.0005) - st.norm.cdf(x = s1, loc = 0.2500, scale = 0.0005)))"
   ]
  },
  {
   "cell_type": "markdown",
   "metadata": {},
   "source": [
    "Conclusion : If we change the mean from 0.2508 to 0.2500 the proportion of shaft increases from 0.9192 to 0.9973"
   ]
  }
 ],
 "metadata": {
  "kernelspec": {
   "display_name": "Python 3",
   "language": "python",
   "name": "python3"
  },
  "language_info": {
   "codemirror_mode": {
    "name": "ipython",
    "version": 3
   },
   "file_extension": ".py",
   "mimetype": "text/x-python",
   "name": "python",
   "nbconvert_exporter": "python",
   "pygments_lexer": "ipython3",
   "version": "3.8.3"
  }
 },
 "nbformat": 4,
 "nbformat_minor": 4
}
